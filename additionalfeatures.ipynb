{
 "cells": [
  {
   "cell_type": "markdown",
   "id": "d74907ec-79b7-49aa-94f4-3df4022967cf",
   "metadata": {},
   "source": [
    "## Libraries"
   ]
  },
  {
   "cell_type": "code",
   "execution_count": null,
   "id": "e7baab76-61a4-40d9-86e1-651c2e49407e",
   "metadata": {},
   "outputs": [],
   "source": [
    "import numpy as np\n",
    "import mediapipe as mp\n",
    "import cv2\n",
    "from collections import defaultdict\n",
    "\n",
    "mp_drawing = mp.solutions.drawing_utils\n",
    "mp_pose = mp.solutions.pose"
   ]
  },
  {
   "cell_type": "markdown",
   "id": "dd8ac922-618d-4454-8fad-10d7a167d44a",
   "metadata": {},
   "source": [
    "## NO Half Reps"
   ]
  },
  {
   "cell_type": "code",
   "execution_count": null,
   "id": "c348e29b-3626-4632-b07e-68465018acd5",
   "metadata": {},
   "outputs": [],
   "source": [
    "## tool to count full squat reps also with the same mediapipe pre-trained model used for the triples extension\n",
    "\n",
    "def no_half_reps(video):\n",
    "    \n",
    "    cap = cv2.VideoCapture(video)\n",
    "\n",
    "    cap.set(cv2.CAP_PROP_FRAME_WIDTH, 800)\n",
    "    cap.set(cv2.CAP_PROP_FRAME_HEIGHT, 600)\n",
    "    \n",
    "    # squat counter variables\n",
    "    counter = 0 \n",
    "    stage = \"up\" # used so the counter doesn't repeatedly counts + 1 in every moment the degree is < 90\n",
    "    \n",
    "    with mp_pose.Pose(min_detection_confidence=0.5, min_tracking_confidence=0.5) as pose:\n",
    "        while cap.isOpened():\n",
    "            ret, frame = cap.read()\n",
    "            \n",
    "            image = cv2.cvtColor(frame, cv2.COLOR_BGR2RGB)\n",
    "            image.flags.writeable = False\n",
    "          \n",
    "            results = pose.process(image)\n",
    "        \n",
    "            image.flags.writeable = True\n",
    "            image = cv2.cvtColor(image, cv2.COLOR_RGB2BGR)\n",
    "            \n",
    "            try:\n",
    "                landmarks = results.pose_landmarks.landmark\n",
    "                \n",
    "                hip = [landmarks[mp_pose.PoseLandmark.LEFT_HIP.value].x,landmarks[mp_pose.PoseLandmark.LEFT_HIP.value].y]\n",
    "                knee = [landmarks[mp_pose.PoseLandmark.LEFT_KNEE.value].x,landmarks[mp_pose.PoseLandmark.LEFT_KNEE.value].y]\n",
    "                ankle = [landmarks[mp_pose.PoseLandmark.LEFT_ANKLE.value].x,landmarks[mp_pose.PoseLandmark.LEFT_ANKLE.value].y]\n",
    "                        \n",
    "                angle = calculate_angle(hip, knee, ankle)\n",
    "                \n",
    "                # squat counter logic\n",
    "                if angle > 90 and stage == \"up\":\n",
    "                    stage = \"down\"\n",
    "                if angle < 90 and stage == \"down\":\n",
    "                    stage = \"up\" \n",
    "                    counter +=1\n",
    "                    #print(counter)\n",
    "                           \n",
    "            except:\n",
    "                pass\n",
    "\n",
    "            # set counter box\n",
    "            cv2.rectangle(image, (0,0), (225,73), (245,117,16), -1)\n",
    "            \n",
    "            cv2.putText(image, 'REPS', (15,12), \n",
    "                        cv2.FONT_HERSHEY_SIMPLEX, 0.5, (0,0,0), 1, cv2.LINE_AA)\n",
    "            cv2.putText(image, str(counter), \n",
    "                        (10,60), \n",
    "                        cv2.FONT_HERSHEY_SIMPLEX, 2, (255,255,255), 2, cv2.LINE_AA)\n",
    "            \n",
    "            # Render detections\n",
    "            mp_drawing.draw_landmarks(image, results.pose_landmarks, mp_pose.POSE_CONNECTIONS,\n",
    "                                    mp_drawing.DrawingSpec(color=(245,117,66), thickness=2, circle_radius=2), \n",
    "                                    mp_drawing.DrawingSpec(color=(245,66,230), thickness=2, circle_radius=2) \n",
    "                                     )               \n",
    "        \n",
    "            cv2.imshow('NO Half Reps!', image)\n",
    "    \n",
    "            if cv2.waitKey(10) & 0xFF == ord('q'):\n",
    "                break\n",
    "    \n",
    "        cap.release()\n",
    "        cv2.destroyAllWindows()\n",
    "\n",
    "    return\n",
    "\n",
    "no_half_reps(1)"
   ]
  },
  {
   "cell_type": "markdown",
   "id": "446a8e6d-af92-429c-9c91-59aaa6772d2c",
   "metadata": {},
   "source": [
    "## 1-Rep Max Calculator"
   ]
  },
  {
   "cell_type": "code",
   "execution_count": null,
   "id": "3f49a7b4-1b04-445d-a523-50eec8d88601",
   "metadata": {},
   "outputs": [],
   "source": [
    "## decided to play around to estimate 1-rep max for exercises according to number of repetions x weight at maximum effort\n",
    "\n",
    "def rep_max_calculator(weight, reps): \n",
    "    percentages = [1, 0.97, 0.94, 0.92, 0.89, 0.86, 0.83, 0.81, 0.78, 0.75, 0.73, 0.71, 0.70, 0.68, 0.67]\n",
    "    return weight / percentages[reps-1]"
   ]
  }
 ],
 "metadata": {
  "kernelspec": {
   "display_name": "Python 3 (ipykernel)",
   "language": "python",
   "name": "python3"
  },
  "language_info": {
   "codemirror_mode": {
    "name": "ipython",
    "version": 3
   },
   "file_extension": ".py",
   "mimetype": "text/x-python",
   "name": "python",
   "nbconvert_exporter": "python",
   "pygments_lexer": "ipython3",
   "version": "3.10.9"
  }
 },
 "nbformat": 4,
 "nbformat_minor": 5
}
