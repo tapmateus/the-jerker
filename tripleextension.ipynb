{
 "cells": [
  {
   "cell_type": "markdown",
   "id": "ce692b34-c4b3-447a-b993-643776c70be9",
   "metadata": {},
   "source": [
    "## Libraries"
   ]
  },
  {
   "cell_type": "code",
   "execution_count": 3,
   "id": "e9b8fd6f-1f78-46bb-a14e-3370fcd93efa",
   "metadata": {},
   "outputs": [],
   "source": [
    "import numpy as np\n",
    "import mediapipe as mp\n",
    "import cv2\n",
    "from collections import defaultdict\n",
    "\n",
    "mp_drawing = mp.solutions.drawing_utils\n",
    "mp_pose = mp.solutions.pose"
   ]
  },
  {
   "cell_type": "markdown",
   "id": "8ee26e48-0e74-4944-9166-f88278eb761f",
   "metadata": {},
   "source": [
    "## Angle Calculation"
   ]
  },
  {
   "cell_type": "code",
   "execution_count": 1,
   "id": "eced97ca-faa4-434c-8dbf-ce02ff4e7924",
   "metadata": {},
   "outputs": [],
   "source": [
    "#defining a function that calculates angles giving coordinates as inputs\n",
    "\n",
    "def calculate_angle(a,b,c):\n",
    "    a = np.array(a)\n",
    "    b = np.array(b) \n",
    "    c = np.array(c) \n",
    "    \n",
    "    radians = np.arctan2(c[1]-b[1], c[0]-b[0]) - np.arctan2(a[1]-b[1], a[0]-b[0])\n",
    "    angle = np.abs(radians*180.0/np.pi)\n",
    "    \n",
    "    if angle >180.0:\n",
    "        angle = 360-angle\n",
    "        \n",
    "    return angle "
   ]
  },
  {
   "cell_type": "markdown",
   "id": "8b0f1b10-639a-469a-af88-1baea7e09d69",
   "metadata": {},
   "source": [
    "## Triple Extension Checker"
   ]
  },
  {
   "cell_type": "code",
   "execution_count": 4,
   "id": "9dde0557-a070-437d-83e0-90e97fd8c343",
   "metadata": {},
   "outputs": [
    {
     "name": "stderr",
     "output_type": "stream",
     "text": [
      "WARNING: All log messages before absl::InitializeLog() is called are written to STDERR\n",
      "I0000 00:00:1702135474.329847       1 gl_context.cc:344] GL version: 2.1 (2.1 Metal - 88), renderer: Apple M1\n",
      "INFO: Created TensorFlow Lite XNNPACK delegate for CPU.\n"
     ]
    }
   ],
   "source": [
    "## using the previous functions together with pre-trained MediaPipe models to estimate poses so to calculate an angle in\n",
    "## hip - knee - ankle to verify if there's a triple extension or not (> 160 degrees)\n",
    "\n",
    "def triple_extension_checker(video):\n",
    "\n",
    "    cap = cv2.VideoCapture(video)\n",
    "        \n",
    "    # checker variables\n",
    "    counter = \"not extended\"\n",
    "    stage = \"\" \n",
    "    \n",
    "    ## set up mediapipe instance\n",
    "    with mp_pose.Pose(min_detection_confidence=0.5, min_tracking_confidence=0.5) as pose:\n",
    "        while cap.isOpened():\n",
    "            ret, frame = cap.read()\n",
    "                \n",
    "            # recolor image to RGB\n",
    "            image = cv2.cvtColor(frame, cv2.COLOR_BGR2RGB)\n",
    "            image.flags.writeable = False\n",
    "              \n",
    "            # rake detection\n",
    "            results = pose.process(image)\n",
    "            \n",
    "            # recolor back to BGR\n",
    "            image.flags.writeable = True\n",
    "            image = cv2.cvtColor(image, cv2.COLOR_RGB2BGR)\n",
    "            image.flags.writeable = True\n",
    "            \n",
    "            # extract landmarks\n",
    "            try:\n",
    "                landmarks = results.pose_landmarks.landmark\n",
    "                    \n",
    "                # get coordinates\n",
    "                hip = [landmarks[mp_pose.PoseLandmark.LEFT_HIP.value].x,landmarks[mp_pose.PoseLandmark.LEFT_HIP.value].y]\n",
    "                knee = [landmarks[mp_pose.PoseLandmark.LEFT_KNEE.value].x,landmarks[mp_pose.PoseLandmark.LEFT_KNEE.value].y]\n",
    "                ankle = [landmarks[mp_pose.PoseLandmark.LEFT_ANKLE.value].x,landmarks[mp_pose.PoseLandmark.LEFT_ANKLE.value].y]\n",
    "                    \n",
    "                # calculate angle\n",
    "                angle = calculate_angle(ankle, knee, hip)\n",
    "                    \n",
    "                # setting up tiple extension angle criteria\n",
    "                if angle > 160:\n",
    "                    stage = \"\" \n",
    "                    counter = \"Perfect\"\n",
    "                               \n",
    "            except:\n",
    "                pass\n",
    "                \n",
    "            # estension status box\n",
    "            cv2.rectangle(image, (0,0), (250,73), (245,117,16), -1)\n",
    "                \n",
    "            # status data\n",
    "            cv2.putText(image, 'EXTENSION STATUS', (15,25), \n",
    "                        cv2.FONT_HERSHEY_SIMPLEX, 0.75, (0,0,0), 1, cv2.LINE_AA)\n",
    "            cv2.putText(image, str(counter), \n",
    "                        (10,60), \n",
    "                        cv2.FONT_HERSHEY_SIMPLEX, 1, (255,255,255), 2, cv2.LINE_AA)\n",
    "                \n",
    "            # stage data\n",
    "            cv2.putText(image, '', (65,12), \n",
    "                        cv2.FONT_HERSHEY_SIMPLEX, 0.5, (0,0,0), 1, cv2.LINE_AA)\n",
    "            cv2.putText(image, stage, \n",
    "                        (60,60), \n",
    "                        cv2.FONT_HERSHEY_SIMPLEX, 2, (255,255,255), 2, cv2.LINE_AA)  \n",
    "\n",
    "            # Render detections\n",
    "            #mp_drawing.draw_landmarks(image, results.pose_landmarks, mp_pose.POSE_CONNECTIONS,\n",
    "             #                       mp_drawing.DrawingSpec(color=(245,117,66), thickness=2, circle_radius=2), \n",
    "              #                      mp_drawing.DrawingSpec(color=(245,66,230), thickness=2, circle_radius=2) \n",
    "               #                      )  \n",
    "\n",
    "            ### uncomment if you want to see the jointa estimations\n",
    "        \n",
    "            vid = cv2.imshow('Extension Checker', image)\n",
    "        \n",
    "            if cv2.waitKey(10) & 0xFF == ord('q'):\n",
    "                break\n",
    "        \n",
    "        cap.release()\n",
    "        cv2.destroyAllWindows()\n",
    "\n",
    "    return vid\n",
    "    \n",
    "triple_extension_checker('video.mp4')"
   ]
  },
  {
   "cell_type": "code",
   "execution_count": null,
   "id": "433ff445-d55b-49bb-a3a9-2300f5ed5103",
   "metadata": {},
   "outputs": [],
   "source": []
  }
 ],
 "metadata": {
  "kernelspec": {
   "display_name": "Python 3 (ipykernel)",
   "language": "python",
   "name": "python3"
  },
  "language_info": {
   "codemirror_mode": {
    "name": "ipython",
    "version": 3
   },
   "file_extension": ".py",
   "mimetype": "text/x-python",
   "name": "python",
   "nbconvert_exporter": "python",
   "pygments_lexer": "ipython3",
   "version": "3.10.9"
  }
 },
 "nbformat": 4,
 "nbformat_minor": 5
}
